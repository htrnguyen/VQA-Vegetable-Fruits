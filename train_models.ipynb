{
 "cells": [
  {
   "cell_type": "code",
   "execution_count": 1,
   "metadata": {},
   "outputs": [
    {
     "name": "stdout",
     "output_type": "stream",
     "text": [
      "📌 Kích thước batch ảnh: torch.Size([16, 3, 224, 224])\n",
      "📌 Kích thước batch câu hỏi: torch.Size([16, 30])\n",
      "📌 Batch câu trả lời: torch.Size([16])\n"
     ]
    }
   ],
   "source": [
    "from dataset_loader import get_loaders\n",
    "\n",
    "# ✅ Load dữ liệu với batch_size=16\n",
    "train_loader, val_loader, test_loader = get_loaders(batch_size=16)\n",
    "\n",
    "# ✅ Lấy một batch dữ liệu từ train_loader\n",
    "images, questions, answers = next(iter(train_loader))\n",
    "\n",
    "print(\"📌 Kích thước batch ảnh:\", images.shape)  # (batch_size, 3, 224, 224)\n",
    "print(\"📌 Kích thước batch câu hỏi:\", questions.shape)  # (batch_size, max_len=20)\n",
    "print(\"📌 Batch câu trả lời:\", answers.shape)  # (batch_size,)"
   ]
  },
  {
   "cell_type": "code",
   "execution_count": 2,
   "metadata": {},
   "outputs": [
    {
     "name": "stdout",
     "output_type": "stream",
     "text": [
      "📌 Kích thước output: torch.Size([16, 500])\n"
     ]
    }
   ],
   "source": [
    "from models.cnn_lstm import VQAModel\n",
    "import torch\n",
    "\n",
    "# ✅ Giả lập dữ liệu đầu vào\n",
    "batch_size = 16 \n",
    "image_tensor = torch.randn(batch_size, 3, 224, 224)  # Ảnh 224x224 RGB\n",
    "question_tensor = torch.randint(0, 88, (batch_size, 30))  # Mã hóa câu hỏi (max_len=30)\n",
    "\n",
    "# ✅ Khởi tạo mô hình\n",
    "vocab_size = 88\n",
    "num_answers = 500\n",
    "model = VQAModel(vocab_size, num_answers)\n",
    "\n",
    "# ✅ Kiểm tra forward pass\n",
    "output = model(image_tensor, question_tensor)\n",
    "\n",
    "print(\"📌 Kích thước output:\", output.shape)  # (batch_size, num_answers)"
   ]
  },
  {
   "cell_type": "code",
   "execution_count": 3,
   "metadata": {},
   "outputs": [
    {
     "name": "stdout",
     "output_type": "stream",
     "text": [
      "^C\n"
     ]
    }
   ],
   "source": [
    "!python train.py --device cpu --num_epochs 1"
   ]
  }
 ],
 "metadata": {
  "kernelspec": {
   "display_name": "py39",
   "language": "python",
   "name": "python3"
  },
  "language_info": {
   "codemirror_mode": {
    "name": "ipython",
    "version": 3
   },
   "file_extension": ".py",
   "mimetype": "text/x-python",
   "name": "python",
   "nbconvert_exporter": "python",
   "pygments_lexer": "ipython3",
   "version": "3.9.21"
  }
 },
 "nbformat": 4,
 "nbformat_minor": 2
}
