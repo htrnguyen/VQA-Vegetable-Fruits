{
 "cells": [
  {
   "cell_type": "code",
   "execution_count": 2,
   "metadata": {},
   "outputs": [
    {
     "name": "stdout",
     "output_type": "stream",
     "text": [
      "Train Loader: 27304 mẫu\n",
      "Val Loader: 3424 mẫu\n",
      "Test Loader: 3588 mẫu\n",
      "Số câu trả lời sử dụng: 500\n"
     ]
    }
   ],
   "source": [
    "import dataset_loader\n",
    "\n",
    "train_loader, val_loader, test_loader, num_answers = dataset_loader.get_loaders(\n",
    "    data_path=\"data/processed/processed_data.pt\", batch_size=32, limit_answers=500\n",
    ")\n",
    "print(f\"Train Loader: {len(train_loader.dataset)} mẫu\")\n",
    "print(f\"Val Loader: {len(val_loader.dataset)} mẫu\")\n",
    "print(f\"Test Loader: {len(test_loader.dataset)} mẫu\")\n",
    "print(f\"Số câu trả lời sử dụng: {num_answers}\")"
   ]
  }
 ],
 "metadata": {
  "kernelspec": {
   "display_name": "py39",
   "language": "python",
   "name": "python3"
  },
  "language_info": {
   "codemirror_mode": {
    "name": "ipython",
    "version": 3
   },
   "file_extension": ".py",
   "mimetype": "text/x-python",
   "name": "python",
   "nbconvert_exporter": "python",
   "pygments_lexer": "ipython3",
   "version": "3.9.21"
  }
 },
 "nbformat": 4,
 "nbformat_minor": 2
}
