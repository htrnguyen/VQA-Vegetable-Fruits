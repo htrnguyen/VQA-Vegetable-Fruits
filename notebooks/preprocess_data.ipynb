{
 "cells": [
  {
   "cell_type": "code",
   "execution_count": 9,
   "metadata": {},
   "outputs": [],
   "source": [
    "import os\n",
    "import json\n",
    "import torch\n",
    "import torchvision.transforms as transforms\n",
    "from PIL import Image\n",
    "from tqdm import tqdm\n",
    "import random\n",
    "import matplotlib.pyplot as plt\n",
    "from collections import defaultdict"
   ]
  },
  {
   "cell_type": "code",
   "execution_count": 10,
   "metadata": {},
   "outputs": [],
   "source": [
    "# Đường dẫn dữ liệu\n",
    "DATA_PATH = \"../data/processed/vqa_data.json\"\n",
    "IMAGE_DIR = \"../data/raw/\"\n",
    "PROCESSED_DATA_FILE = \"../data/processed/processed_data.pt\""
   ]
  },
  {
   "cell_type": "markdown",
   "metadata": {},
   "source": [
    "## Tiền xử lý ảnh"
   ]
  },
  {
   "cell_type": "code",
   "execution_count": 11,
   "metadata": {},
   "outputs": [
    {
     "name": "stdout",
     "output_type": "stream",
     "text": [
      "Bắt đầu tiền xử lý ảnh...\n"
     ]
    },
    {
     "name": "stderr",
     "output_type": "stream",
     "text": [
      "100%|██████████| 8579/8579 [00:34<00:00, 246.92it/s]"
     ]
    },
    {
     "name": "stdout",
     "output_type": "stream",
     "text": [
      "Đã xử lý 8579 ảnh!\n",
      "\n"
     ]
    },
    {
     "name": "stderr",
     "output_type": "stream",
     "text": [
      "\n"
     ]
    }
   ],
   "source": [
    "print(\"Bắt đầu tiền xử lý ảnh...\")\n",
    "\n",
    "image_transform = transforms.Compose(\n",
    "    [\n",
    "        transforms.Resize((224, 224)),\n",
    "        transforms.ToTensor(),\n",
    "        transforms.Normalize(\n",
    "            mean=[0.485, 0.456, 0.406], std=[0.229, 0.224, 0.225]\n",
    "        ),  # Chuẩn hóa giống ImageNet\n",
    "    ]\n",
    ")\n",
    "\n",
    "processed_images = {}\n",
    "\n",
    "with open(DATA_PATH, \"r\", encoding=\"utf-8\") as f:\n",
    "    vqa_data = json.load(f)\n",
    "\n",
    "for item in tqdm(vqa_data):\n",
    "    image_path = os.path.join(IMAGE_DIR, item[\"image_id\"])\n",
    "\n",
    "    if os.path.exists(image_path):\n",
    "        img = Image.open(image_path).convert(\"RGB\")\n",
    "        img_tensor = image_transform(img)\n",
    "        processed_images[item[\"image_id\"]] = img_tensor\n",
    "\n",
    "print(f\"Đã xử lý {len(processed_images)} ảnh!\\n\")"
   ]
  },
  {
   "cell_type": "markdown",
   "metadata": {},
   "source": [
    "## Xây dựng từ điển ký tự (vocab)"
   ]
  },
  {
   "cell_type": "code",
   "execution_count": 12,
   "metadata": {},
   "outputs": [
    {
     "name": "stdout",
     "output_type": "stream",
     "text": [
      "Xây dựng từ điển ký tự (vocab)...\n",
      "Kích thước vocab: 88\n",
      "\n"
     ]
    }
   ],
   "source": [
    "print(\"Xây dựng từ điển ký tự (vocab)...\")\n",
    "\n",
    "vocab = {\"<PAD>\": 0, \"<UNK>\": 1}\n",
    "for item in vqa_data:\n",
    "    for q in item[\"questions\"]:\n",
    "        for char in q[\"question\"]:\n",
    "            if char not in vocab:\n",
    "                vocab[char] = len(vocab)\n",
    "\n",
    "vocab_size = len(vocab)\n",
    "print(f\"Kích thước vocab: {vocab_size}\\n\")"
   ]
  },
  {
   "cell_type": "markdown",
   "metadata": {},
   "source": [
    "## Xây dựng từ điển câu trả lời (answer_dict)"
   ]
  },
  {
   "cell_type": "code",
   "execution_count": 13,
   "metadata": {},
   "outputs": [
    {
     "name": "stdout",
     "output_type": "stream",
     "text": [
      "Xây dựng từ điển câu trả lời...\n",
      "Số lượng câu trả lời: 1951\n",
      "\n"
     ]
    }
   ],
   "source": [
    "print(\"Xây dựng từ điển câu trả lời...\")\n",
    "\n",
    "answer_dict = {\"<UNK>\": 0}\n",
    "for item in vqa_data:\n",
    "    for q in item[\"questions\"]:\n",
    "        for ans in q[\"answers\"]:\n",
    "            if ans not in answer_dict:\n",
    "                answer_dict[ans] = len(answer_dict)\n",
    "\n",
    "num_answers = len(answer_dict)\n",
    "print(f\"Số lượng câu trả lời: {num_answers}\\n\")"
   ]
  },
  {
   "cell_type": "markdown",
   "metadata": {},
   "source": [
    "## Chia dữ liệu theo folder (đảm bảo cân bằng)"
   ]
  },
  {
   "cell_type": "code",
   "execution_count": 14,
   "metadata": {},
   "outputs": [
    {
     "name": "stdout",
     "output_type": "stream",
     "text": [
      "Chia dữ liệu đảm bảo cân bằng giữa các tập...\n",
      "Tổng số mẫu sau khi chia: Train: 6826, Val: 856, Test: 897\n",
      "\n"
     ]
    }
   ],
   "source": [
    "print(\"Chia dữ liệu đảm bảo cân bằng giữa các tập...\")\n",
    "\n",
    "folder_dict = defaultdict(list)\n",
    "\n",
    "# Nhóm dữ liệu theo folder trước khi mã hóa\n",
    "for item in vqa_data:\n",
    "    folder_name = item[\"image_id\"].split(\"/\")[0]  # Lấy tên folder (loại quả)\n",
    "    folder_dict[folder_name].append(item)\n",
    "\n",
    "# Chia dữ liệu trong mỗi folder theo tỷ lệ 80% train, 10% val, 10% test\n",
    "train_items, val_items, test_items = [], [], []\n",
    "\n",
    "for folder, items in folder_dict.items():\n",
    "    random.shuffle(items)  # Trộn ngẫu nhiên\n",
    "\n",
    "    train_split = int(0.8 * len(items))\n",
    "    val_split = int(0.9 * len(items))\n",
    "\n",
    "    train_items.extend(items[:train_split])\n",
    "    val_items.extend(items[train_split:val_split])\n",
    "    test_items.extend(items[val_split:])\n",
    "\n",
    "print(\n",
    "    f\"Tổng số mẫu sau khi chia: Train: {len(train_items)}, Val: {len(val_items)}, Test: {len(test_items)}\\n\"\n",
    ")"
   ]
  },
  {
   "cell_type": "markdown",
   "metadata": {},
   "source": [
    "##  Mã hóa dữ liệu thành tensor"
   ]
  },
  {
   "cell_type": "code",
   "execution_count": 15,
   "metadata": {},
   "outputs": [
    {
     "name": "stdout",
     "output_type": "stream",
     "text": [
      "Mã hóa dữ liệu thành tensor...\n"
     ]
    },
    {
     "name": "stderr",
     "output_type": "stream",
     "text": [
      "100%|██████████| 6826/6826 [00:01<00:00, 6659.77it/s]\n",
      "100%|██████████| 856/856 [00:00<00:00, 9713.37it/s]\n",
      "100%|██████████| 897/897 [00:00<00:00, 9796.36it/s]\n"
     ]
    },
    {
     "name": "stdout",
     "output_type": "stream",
     "text": [
      "Tổng số mẫu dữ liệu sau mã hóa: Train: 27304, Val: 3424, Test: 3588\n",
      "\n"
     ]
    }
   ],
   "source": [
    "print(\"Mã hóa dữ liệu thành tensor...\")\n",
    "\n",
    "\n",
    "def encode_data(items):\n",
    "    encoded_data = []\n",
    "    max_len = 30  # Độ dài cố định của câu hỏi\n",
    "\n",
    "    for item in tqdm(items):\n",
    "        img_tensor = processed_images.get(item[\"image_id\"])\n",
    "        if img_tensor is None:\n",
    "            continue  # Bỏ qua ảnh bị thiếu\n",
    "\n",
    "        for q in item[\"questions\"]:\n",
    "            # Mã hóa câu hỏi\n",
    "            question_tensor = torch.tensor(\n",
    "                [vocab.get(char, vocab[\"<UNK>\"]) for char in q[\"question\"]],\n",
    "                dtype=torch.long,\n",
    "            )\n",
    "            if len(question_tensor) < max_len:\n",
    "                question_tensor = torch.cat(\n",
    "                    [\n",
    "                        question_tensor,\n",
    "                        torch.tensor(\n",
    "                            [vocab[\"<PAD>\"]] * (max_len - len(question_tensor))\n",
    "                        ),\n",
    "                    ]\n",
    "                )\n",
    "            else:\n",
    "                question_tensor = question_tensor[:max_len]  # Cắt bớt nếu quá dài\n",
    "\n",
    "            # Mã hóa câu trả lời\n",
    "            answer = q[\"answers\"][0] if q[\"answers\"][0] in answer_dict else \"<UNK>\"\n",
    "            answer_id = torch.tensor(answer_dict[answer], dtype=torch.long)\n",
    "\n",
    "            encoded_data.append(\n",
    "                {\n",
    "                    \"image\": img_tensor,  # Tensor ảnh\n",
    "                    \"question\": question_tensor,  # Tensor câu hỏi\n",
    "                    \"answer_id\": answer_id,  # ID câu trả lời\n",
    "                }\n",
    "            )\n",
    "\n",
    "    return encoded_data\n",
    "\n",
    "\n",
    "# Mã hóa train/val/test\n",
    "train_data = encode_data(train_items)\n",
    "val_data = encode_data(val_items)\n",
    "test_data = encode_data(test_items)\n",
    "\n",
    "print(\n",
    "    f\"Tổng số mẫu dữ liệu sau mã hóa: Train: {len(train_data)}, Val: {len(val_data)}, Test: {len(test_data)}\\n\"\n",
    ")"
   ]
  },
  {
   "cell_type": "markdown",
   "metadata": {},
   "source": [
    "##  Lưu dữ liệu đã xử lý"
   ]
  },
  {
   "cell_type": "code",
   "execution_count": 16,
   "metadata": {},
   "outputs": [
    {
     "name": "stdout",
     "output_type": "stream",
     "text": [
      "Lưu dữ liệu đã xử lý...\n",
      "Dữ liệu đã lưu thành công tại `../data/processed/processed_data.pt`!\n",
      "\n"
     ]
    }
   ],
   "source": [
    "print(\"Lưu dữ liệu đã xử lý...\")\n",
    "\n",
    "torch.save({\n",
    "    \"train\": train_data,\n",
    "    \"val\": val_data,\n",
    "    \"test\": test_data,\n",
    "    \"answer_dict\": answer_dict,\n",
    "    \"vocab\": vocab,\n",
    "    \"vocab_size\": vocab_size,\n",
    "    \"metadata\": {\n",
    "        \"num_train\": len(train_data),\n",
    "        \"num_val\": len(val_data),\n",
    "        \"num_test\": len(test_data),\n",
    "        \"num_answers\": num_answers,\n",
    "        \"num_vocab\": vocab_size,\n",
    "    },\n",
    "}, PROCESSED_DATA_FILE)\n",
    "\n",
    "print(f\"Dữ liệu đã lưu thành công tại `{PROCESSED_DATA_FILE}`!\\n\")"
   ]
  }
 ],
 "metadata": {
  "kernelspec": {
   "display_name": "py39",
   "language": "python",
   "name": "python3"
  },
  "language_info": {
   "codemirror_mode": {
    "name": "ipython",
    "version": 3
   },
   "file_extension": ".py",
   "mimetype": "text/x-python",
   "name": "python",
   "nbconvert_exporter": "python",
   "pygments_lexer": "ipython3",
   "version": "3.9.21"
  }
 },
 "nbformat": 4,
 "nbformat_minor": 2
}
