{
 "cells": [
  {
   "cell_type": "code",
   "execution_count": 2,
   "metadata": {},
   "outputs": [],
   "source": [
    "import os\n",
    "import json\n",
    "import unidecode"
   ]
  },
  {
   "cell_type": "code",
   "execution_count": 3,
   "metadata": {},
   "outputs": [],
   "source": [
    "# Đường dẫn tới dữ liệu\n",
    "DATA_PATH = \"../data/processed/vqa_data.json\"\n",
    "IMAGE_DIR = \"../data/raw/\""
   ]
  },
  {
   "cell_type": "code",
   "execution_count": 4,
   "metadata": {},
   "outputs": [
    {
     "name": "stdout",
     "output_type": "stream",
     "text": [
      "Dữ liệu đã tải thành công! Tổng số ảnh: 8579\n",
      "\n"
     ]
    }
   ],
   "source": [
    "# Load dữ liệu JSON\n",
    "try:\n",
    "    with open(DATA_PATH, \"r\", encoding=\"utf-8\") as f:\n",
    "        vqa_data = json.load(f)\n",
    "    print(f\"Dữ liệu đã tải thành công! Tổng số ảnh: {len(vqa_data)}\\n\")\n",
    "except Exception as e:\n",
    "    print(f\"Lỗi khi tải dữ liệu: {e}\")"
   ]
  },
  {
   "cell_type": "code",
   "execution_count": 6,
   "metadata": {},
   "outputs": [
    {
     "name": "stdout",
     "output_type": "stream",
     "text": [
      "Tất cả ảnh đều tồn tại!\n"
     ]
    }
   ],
   "source": [
    "# Kiểm tra ảnh có tồn tại không\n",
    "missing_images = []\n",
    "\n",
    "for item in vqa_data:\n",
    "    image_path = os.path.join(IMAGE_DIR, item[\"image_id\"])\n",
    "    if not os.path.exists(image_path):\n",
    "        missing_images.append(image_path)\n",
    "\n",
    "if missing_images:\n",
    "    print(f\"len(missing_images) ảnh không tồn tại:\")\n",
    "    for img in missing_images:\n",
    "        print(f\"    - {img}\")\n",
    "else:\n",
    "    print(\"Tất cả ảnh đều tồn tại!\")"
   ]
  },
  {
   "cell_type": "code",
   "execution_count": 7,
   "metadata": {},
   "outputs": [
    {
     "name": "stdout",
     "output_type": "stream",
     "text": [
      "Tất cả câu hỏi và câu trả lời đều hợp lệ!\n"
     ]
    }
   ],
   "source": [
    "# Kiểm tra câu hỏi và câu trả lời\n",
    "error_questions = []\n",
    "error_answers = []\n",
    "\n",
    "for item in vqa_data:\n",
    "    image_id = item[\"image_id\"]\n",
    "    questions = item.get(\"questions\", [])\n",
    "\n",
    "    if len(questions) == 0:\n",
    "        error_questions.append(image_id)\n",
    "\n",
    "    for q in questions:\n",
    "        if \"question\" not in q or \"answers\" not in q:\n",
    "            error_answers.append((image_id, \"Thiếu câu hỏi hoặc câu trả lời\"))\n",
    "        elif len(q[\"answers\"]) != 5:\n",
    "            error_answers.append((image_id, \"Số lượng câu trả lời không hợp lệ\"))\n",
    "\n",
    "if error_questions:\n",
    "    print(f\"Có {len(error_questions)} câu hỏi không hợp lệ:\")\n",
    "    for img in error_questions:\n",
    "        print(f\"    - {img}\")\n",
    "\n",
    "if error_answers:\n",
    "    print(f\"Có {len(error_answers)} câu trả lời không hợp lệ:\")\n",
    "    for img, error in error_answers:\n",
    "        print(f\"    - {img}: {error}\")\n",
    "\n",
    "if not error_questions and not error_answers:\n",
    "    print(\"Tất cả câu hỏi và câu trả lời đều hợp lệ!\")"
   ]
  },
  {
   "cell_type": "code",
   "execution_count": 11,
   "metadata": {},
   "outputs": [
    {
     "name": "stdout",
     "output_type": "stream",
     "text": [
      "Không có lỗi mã hóa!\n",
      "\n",
      "Dữ liệu hợp lệ\n"
     ]
    }
   ],
   "source": [
    "encoding_errors = []\n",
    "\n",
    "for item in vqa_data:\n",
    "    for q in item[\"questions\"]:\n",
    "        try:\n",
    "            # Kiểm tra lỗi font bằng cách chuyển về chữ không dấu và so sánh\n",
    "            question_text = q[\"question\"]\n",
    "            if unidecode.unidecode(question_text) == \"\":\n",
    "                encoding_errors.append((item[\"image_id\"], question_text))\n",
    "        except Exception as e:\n",
    "            encoding_errors.append((item[\"image_id\"], f\"Lỗi mã hóa: {e}\"))\n",
    "\n",
    "# Hiển thị lỗi mã hóa\n",
    "if encoding_errors:\n",
    "    print(f\"Có {len(encoding_errors)} câu hỏi có thể bị lỗi mã hóa:\")\n",
    "    for img, err in encoding_errors[:5]:\n",
    "        print(f\"    - {img}: {err}\")\n",
    "else:\n",
    "    print(\"Không có lỗi mã hóa!\\n\")\n",
    "\n",
    "# 🔥 Kết luận\n",
    "if not (missing_images or error_questions or error_answers or encoding_errors):\n",
    "    print(\"Dữ liệu hợp lệ\")\n",
    "else:\n",
    "    print(\"Có lỗi trong dữ liệu\")"
   ]
  }
 ],
 "metadata": {
  "kernelspec": {
   "display_name": "py39",
   "language": "python",
   "name": "python3"
  },
  "language_info": {
   "codemirror_mode": {
    "name": "ipython",
    "version": 3
   },
   "file_extension": ".py",
   "mimetype": "text/x-python",
   "name": "python",
   "nbconvert_exporter": "python",
   "pygments_lexer": "ipython3",
   "version": "3.9.21"
  }
 },
 "nbformat": 4,
 "nbformat_minor": 2
}
