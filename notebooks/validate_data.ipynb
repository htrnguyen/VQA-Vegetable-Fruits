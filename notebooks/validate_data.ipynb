{
 "cells": [
  {
   "cell_type": "code",
   "execution_count": 21,
   "metadata": {},
   "outputs": [],
   "source": [
    "import os\n",
    "import json\n",
    "import unidecode\n",
    "from collections import Counter"
   ]
  },
  {
   "cell_type": "code",
   "execution_count": 22,
   "metadata": {},
   "outputs": [],
   "source": [
    "# Đường dẫn tới dữ liệu\n",
    "DATA_PATH = \"../data/processed/vqa_data.json\"\n",
    "IMAGE_DIR = \"../data/raw/\""
   ]
  },
  {
   "cell_type": "code",
   "execution_count": 23,
   "metadata": {},
   "outputs": [
    {
     "name": "stdout",
     "output_type": "stream",
     "text": [
      "Dữ liệu đã tải thành công! Tổng số ảnh: 8579\n",
      "\n"
     ]
    }
   ],
   "source": [
    "# Load dữ liệu JSON\n",
    "try:\n",
    "    with open(DATA_PATH, \"r\", encoding=\"utf-8\") as f:\n",
    "        vqa_data = json.load(f)\n",
    "    print(f\"Dữ liệu đã tải thành công! Tổng số ảnh: {len(vqa_data)}\\n\")\n",
    "except Exception as e:\n",
    "    print(f\"Lỗi khi tải dữ liệu: {e}\")"
   ]
  },
  {
   "cell_type": "code",
   "execution_count": 24,
   "metadata": {},
   "outputs": [
    {
     "name": "stdout",
     "output_type": "stream",
     "text": [
      "Tất cả ảnh đều tồn tại!\n",
      "\n"
     ]
    }
   ],
   "source": [
    "# Kiểm tra ảnh có tồn tại không\n",
    "missing_images = []\n",
    "for item in vqa_data:\n",
    "    image_path = os.path.join(IMAGE_DIR, item[\"image_id\"])\n",
    "    if not os.path.exists(image_path):\n",
    "        missing_images.append(image_path)\n",
    "\n",
    "if missing_images:\n",
    "    print(f\"Có {len(missing_images)} ảnh không tồn tại:\")\n",
    "    for img in missing_images[:5]:  # Chỉ hiển thị 5 ảnh đầu tiên nếu nhiều\n",
    "        print(f\"    - {img}\")\n",
    "    if len(missing_images) > 5:\n",
    "        print(f\"    ...và {len(missing_images) - 5} ảnh khác\")\n",
    "else:\n",
    "    print(\"Tất cả ảnh đều tồn tại!\\n\")"
   ]
  },
  {
   "cell_type": "code",
   "execution_count": 25,
   "metadata": {},
   "outputs": [
    {
     "name": "stdout",
     "output_type": "stream",
     "text": [
      "Tất cả ảnh đều có đúng 4 câu hỏi!\n",
      "\n",
      "Tất cả câu hỏi đều có đáp án hợp lệ!\n",
      "\n"
     ]
    }
   ],
   "source": [
    "# Kiểm tra câu hỏi và câu trả lời\n",
    "error_questions = []\n",
    "error_answers = []\n",
    "\n",
    "for item in vqa_data:\n",
    "    image_id = item[\"image_id\"]\n",
    "    questions = item.get(\"questions\", [])\n",
    "\n",
    "    if len(questions) != 4:  # Kiểm tra có đúng 4 câu hỏi không\n",
    "        error_questions.append((image_id, f\"Số câu hỏi: {len(questions)}\"))\n",
    "\n",
    "    for q in questions:\n",
    "        if \"question\" not in q or \"correct_answer\" not in q:\n",
    "            error_answers.append((image_id, \"Thiếu câu hỏi hoặc đáp án\"))\n",
    "\n",
    "if error_questions:\n",
    "    print(f\"Có {len(error_questions)} ảnh có số câu hỏi không hợp lệ:\")\n",
    "    for img, err in error_questions[:5]:\n",
    "        print(f\"    - {img}: {err}\")\n",
    "else:\n",
    "    print(\"Tất cả ảnh đều có đúng 4 câu hỏi!\\n\")\n",
    "\n",
    "if error_answers:\n",
    "    print(f\"Có {len(error_answers)} câu trả lời không hợp lệ:\")\n",
    "    for img, err in error_answers[:5]:\n",
    "        print(f\"    - {img}: {err}\")\n",
    "else:\n",
    "    print(\"Tất cả câu hỏi đều có đáp án hợp lệ!\\n\")"
   ]
  },
  {
   "cell_type": "code",
   "execution_count": 26,
   "metadata": {},
   "outputs": [
    {
     "name": "stdout",
     "output_type": "stream",
     "text": [
      "Không có lỗi mã hóa!\n",
      "\n"
     ]
    }
   ],
   "source": [
    "# Kiểm tra lỗi mã hóa\n",
    "encoding_errors = []\n",
    "for item in vqa_data:\n",
    "    for q in item[\"questions\"]:\n",
    "        try:\n",
    "            question_text = q[\"question\"]\n",
    "            answer_text = q[\"correct_answer\"]\n",
    "            if (\n",
    "                unidecode.unidecode(question_text) == \"\"\n",
    "                or unidecode.unidecode(answer_text) == \"\"\n",
    "            ):\n",
    "                encoding_errors.append((item[\"image_id\"], question_text, answer_text))\n",
    "        except Exception as e:\n",
    "            encoding_errors.append((item[\"image_id\"], f\"Lỗi mã hóa: {e}\"))\n",
    "\n",
    "if encoding_errors:\n",
    "    print(f\"Có {len(encoding_errors)} câu hỏi/đáp án có thể bị lỗi mã hóa:\")\n",
    "    for img, q, a in encoding_errors[:5]:\n",
    "        print(f\"    - {img}: Câu hỏi: '{q}', Đáp án: '{a}'\")\n",
    "else:\n",
    "    print(\"Không có lỗi mã hóa!\\n\")"
   ]
  },
  {
   "cell_type": "code",
   "execution_count": 27,
   "metadata": {},
   "outputs": [],
   "source": [
    "# Thống kê bổ sung\n",
    "question_types = Counter()\n",
    "answer_dist = Counter()\n",
    "unclear_count = 0\n",
    "\n",
    "for item in vqa_data:\n",
    "    for q in item[\"questions\"]:\n",
    "        question_text = q[\"question\"].lower()\n",
    "        answer = q[\"correct_answer\"]\n",
    "\n",
    "        # Phân loại câu hỏi\n",
    "        if \"đây là quả gì\" in question_text or \"tên gì\" in question_text:\n",
    "            question_types[\"Nhận diện\"] += 1\n",
    "        elif \"bao nhiêu\" in question_text or \"số lượng\" in question_text:\n",
    "            question_types[\"Số lượng\"] += 1\n",
    "        elif \"màu gì\" in question_text or \"màu sắc\" in question_text:\n",
    "            question_types[\"Màu sắc\"] += 1\n",
    "        elif \"ở đâu\" in question_text or \"vị trí\" in question_text:\n",
    "            question_types[\"Vị trí\"] += 1\n",
    "\n",
    "        # Thống kê đáp án\n",
    "        answer_dist[answer] += 1\n",
    "        if answer == \"không rõ\":\n",
    "            unclear_count += 1"
   ]
  },
  {
   "cell_type": "code",
   "execution_count": 28,
   "metadata": {},
   "outputs": [
    {
     "name": "stdout",
     "output_type": "stream",
     "text": [
      "=== Thống kê dữ liệu ===\n",
      "Tổng số câu hỏi: 33656\n",
      "Phân bố loại câu hỏi:\n",
      "    - Nhận diện: 8496 (25.24%)\n",
      "    - Số lượng: 8557 (25.42%)\n",
      "    - Màu sắc: 8564 (25.45%)\n",
      "    - Vị trí: 8039 (23.89%)\n",
      "\n",
      "Phân bố đáp án (10 đáp án phổ biến nhất):\n",
      "    - 'không rõ': 7615 (22.19%)\n",
      "    - 'cây': 2646 (7.71%)\n",
      "    - 'đỏ': 2423 (7.06%)\n",
      "    - 'xanh': 1945 (5.67%)\n",
      "    - 'vàng': 1408 (4.10%)\n",
      "    - 'nâu': 1327 (3.87%)\n",
      "    - '2': 975 (2.84%)\n",
      "    - 'bàn': 912 (2.66%)\n",
      "    - '1': 862 (2.51%)\n",
      "    - '3': 766 (2.23%)\n",
      "\n",
      "Số lượng đáp án 'không rõ': 7615 (22.19%)\n",
      "\n",
      "Dữ liệu hợp lệ và sẵn sàng sử dụng!\n"
     ]
    }
   ],
   "source": [
    "# Hiển thị thống kê\n",
    "print(\"=== Thống kê dữ liệu ===\")\n",
    "print(f\"Tổng số câu hỏi: {sum(question_types.values())}\")\n",
    "print(\"Phân bố loại câu hỏi:\")\n",
    "for q_type, count in question_types.items():\n",
    "    print(\n",
    "        f\"    - {q_type}: {count} ({count / sum(question_types.values()) * 100:.2f}%)\"\n",
    "    )\n",
    "\n",
    "print(\"\\nPhân bố đáp án (10 đáp án phổ biến nhất):\")\n",
    "for answer, count in answer_dist.most_common(10):\n",
    "    print(f\"    - '{answer}': {count} ({count / sum(answer_dist.values()) * 100:.2f}%)\")\n",
    "\n",
    "print(\n",
    "    f\"\\nSố lượng đáp án 'không rõ': {unclear_count} ({unclear_count / sum(answer_dist.values()) * 100:.2f}%)\\n\"\n",
    ")\n",
    "\n",
    "# Kết luận\n",
    "if not (missing_images or error_questions or error_answers or encoding_errors):\n",
    "    print(\"Dữ liệu hợp lệ và sẵn sàng sử dụng!\")\n",
    "else:\n",
    "    print(\"Dữ liệu có lỗi cần khắc phục!\")"
   ]
  }
 ],
 "metadata": {
  "kernelspec": {
   "display_name": "py39",
   "language": "python",
   "name": "python3"
  },
  "language_info": {
   "codemirror_mode": {
    "name": "ipython",
    "version": 3
   },
   "file_extension": ".py",
   "mimetype": "text/x-python",
   "name": "python",
   "nbconvert_exporter": "python",
   "pygments_lexer": "ipython3",
   "version": "3.9.21"
  }
 },
 "nbformat": 4,
 "nbformat_minor": 2
}
